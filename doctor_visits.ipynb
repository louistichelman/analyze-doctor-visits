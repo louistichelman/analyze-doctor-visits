{
 "cells": [
  {
   "cell_type": "markdown",
   "metadata": {},
   "source": [
    "# Analyzing the point process of doctor visits\n",
    "\n",
    "In this assignment for the lecture *Social Data Science*, we were looking at synthetic data about patients of some imaginary doctor´s office:\n",
    "- **patients.csv** contains information like weight and gender about all the patients.\n",
    "- **visits.csv** stores information about each visit of a patient (particularly the time). \n",
    "\n",
    "In **Part 1** we are looking at the time intervals between the first and the second visit of a patient and estimate a simple survival model of the event of the second visit (with and without covariates). In **Part 2** we consider a process with events that can happen multiple times (all visits) and in **Part 3** we are also considering covariates that vary with time."
   ]
  },
  {
   "cell_type": "code",
   "execution_count": 2,
   "metadata": {},
   "outputs": [],
   "source": [
    "#We need the following libraries\n",
    "import numpy as np\n",
    "import matplotlib.pyplot as plt\n",
    "import pandas as pd\n",
    "from lifelines import ExponentialFitter\n",
    "from lifelines import CoxPHFitter\n",
    "from lifelines import CoxTimeVaryingFitter"
   ]
  },
  {
   "cell_type": "markdown",
   "metadata": {},
   "source": [
    "# Part 1\n",
    "\n",
    "First we load the entire data set and vizualize some of it to get a better understanding. Therefor we create a scatterplot of the point process data for the first 10 patients (id $\\leq$ 10).\n"
   ]
  },
  {
   "cell_type": "code",
   "execution_count": 3,
   "metadata": {},
   "outputs": [
    {
     "data": {
      "text/plain": [
       "Text(0.5, 1.0, 'Doctor visits of first 10 patients over time')"
      ]
     },
     "execution_count": 3,
     "metadata": {},
     "output_type": "execute_result"
    },
    {
     "data": {
      "image/png": "[encoded data removed]",
      "text/plain": [
       "<Figure size 432x288 with 1 Axes>"
      ]
     },
     "metadata": {
      "needs_background": "light"
     },
     "output_type": "display_data"
    }
   ],
   "source": [
    "# load entire data into dataframes\n",
    "df_patients = pd.read_csv(\"data/patients.csv\")\n",
    "df_time_large = pd.read_csv(\"data/visits.csv\")\n",
    "\n",
    "# derive small dataset used for demo\n",
    "df_time_small = df_time_large[df_time_large.patient <10]\n",
    "\n",
    "# plot small dataset\n",
    "plt.scatter(df_time_small.time, df_time_small.patient)\n",
    "plt.xlabel(\"Time\")\n",
    "plt.ylabel(\"Patient (id)\")\n",
    "plt.title(\"Doctor visits of first 10 patients over time\")"
   ]
  },
  {
   "cell_type": "markdown",
   "metadata": {},
   "source": [
    "\n",
    "We are interested in investigating the time between the first and the second doctors visit. \n",
    "We assume that we investigate the data up until certain timepoints [0.1, 0.2, ... 1.2]. This means that in the first observation period only data with times less or equal to 0.1 ($\\leq$) is available. For second period data less than 0.2 is available and so on, increasing by 0.1 for each step up until 1.2.\n",
    "\n",
    "The function `prepare_analysis` extracts the time of the first and second visit only considering data with time up to and including the threshold `t`.\n",
    "Patients which did not have their first visit within the considered interval are not included. Otherwise, if the second visit is not in the interval, it is indicated with a NaN value.\n"
   ]
  },
  {
   "cell_type": "code",
   "execution_count": 8,
   "metadata": {},
   "outputs": [],
   "source": [
    "def prepare_analysis(df_time : pd.DataFrame, t : float) -> pd.DataFrame:\n",
    "    df = df_time[df_time.time <= t].copy()\n",
    "    out = {\"patient\": [], \"first\" : [], \"second\" :  []}\n",
    "    for index, visit in df.iterrows():\n",
    "        if visit.patient in out[\"patient\"]:\n",
    "            idx = out[\"patient\"].index(visit.patient)\n",
    "            if np.isnan(out[\"second\"][idx]):\n",
    "                out[\"second\"][idx] = visit.time\n",
    "        else:\n",
    "            out[\"patient\"].append(int(visit.patient))\n",
    "            out[\"first\"].append(visit.time)\n",
    "            out[\"second\"].append(np.nan)\n",
    "    return pd.DataFrame(out).set_index(\"patient\").sort_index()"
   ]
  },
  {
   "cell_type": "code",
   "execution_count": 12,
   "metadata": {},
   "outputs": [
    {
     "data": {
      "text/html": [
       "<div>\n",
       "<style scoped>\n",
       "    .dataframe tbody tr th:only-of-type {\n",
       "        vertical-align: middle;\n",
       "    }\n",
       "\n",
       "    .dataframe tbody tr th {\n",
       "        vertical-align: top;\n",
       "    }\n",
       "\n",
       "    .dataframe thead th {\n",
       "        text-align: right;\n",
       "    }\n",
       "</style>\n",
       "<table border=\"1\" class=\"dataframe\">\n",
       "  <thead>\n",
       "    <tr style=\"text-align: right;\">\n",
       "      <th></th>\n",
       "      <th>first</th>\n",
       "      <th>second</th>\n",
       "    </tr>\n",
       "    <tr>\n",
       "      <th>patient</th>\n",
       "      <th></th>\n",
       "      <th></th>\n",
       "    </tr>\n",
       "  </thead>\n",
       "  <tbody>\n",
       "    <tr>\n",
       "      <th>0</th>\n",
       "      <td>0.329409</td>\n",
       "      <td>0.330142</td>\n",
       "    </tr>\n",
       "    <tr>\n",
       "      <th>2</th>\n",
       "      <td>0.031050</td>\n",
       "      <td>0.034792</td>\n",
       "    </tr>\n",
       "    <tr>\n",
       "      <th>3</th>\n",
       "      <td>0.392886</td>\n",
       "      <td>NaN</td>\n",
       "    </tr>\n",
       "    <tr>\n",
       "      <th>4</th>\n",
       "      <td>0.371249</td>\n",
       "      <td>NaN</td>\n",
       "    </tr>\n",
       "    <tr>\n",
       "      <th>7</th>\n",
       "      <td>0.149173</td>\n",
       "      <td>0.255098</td>\n",
       "    </tr>\n",
       "    <tr>\n",
       "      <th>8</th>\n",
       "      <td>0.269761</td>\n",
       "      <td>0.369204</td>\n",
       "    </tr>\n",
       "  </tbody>\n",
       "</table>\n",
       "</div>"
      ],
      "text/plain": [
       "            first    second\n",
       "patient                    \n",
       "0        0.329409  0.330142\n",
       "2        0.031050  0.034792\n",
       "3        0.392886       NaN\n",
       "4        0.371249       NaN\n",
       "7        0.149173  0.255098\n",
       "8        0.269761  0.369204"
      ]
     },
     "execution_count": 12,
     "metadata": {},
     "output_type": "execute_result"
    }
   ],
   "source": [
    "#example output of prepare_analysis\n",
    "prepare_analysis(df_time_small, t = 0.4)"
   ]
  },
  {
   "cell_type": "markdown",
   "metadata": {},
   "source": [
    "We will now consider two approaches to filter the data. \n",
    "- The function `filter_1` returns the time between the first and second visit discarding those that did not have their first *and* second visit within the considered time interval.\n",
    "- The function `filter_2` keeps information on patients whose first visit is in the considered interval but whose second visit is not. It returns the time between first and second visit or the end of the observed time interval as well as a second argument which indicates whether the second visit was acutally observed."
   ]
  },
  {
   "cell_type": "code",
   "execution_count": 13,
   "metadata": {},
   "outputs": [],
   "source": [
    "def filter_1(df : pd.DataFrame) -> pd.Series:\n",
    "    return df.dropna()[\"second\"]-df.dropna()[\"first\"]\n",
    "\n",
    "def filter_2(df : pd.DataFrame, t : float) -> (pd.Series, pd.Series):\n",
    "    df_out = df.copy()\n",
    "    df_out[\"duration\"] = df[\"second\"].subtract(df[\"first\"], fill_value = t)\n",
    "    df_out[\"observed\"] = np.invert(np.isnan(df[\"second\"]))\n",
    "    df_out.drop([\"first\", \"second\"], axis = 1, inplace = True)\n",
    "    return df_out"
   ]
  },
  {
   "cell_type": "code",
   "execution_count": 14,
   "metadata": {},
   "outputs": [
    {
     "data": {
      "text/plain": [
       "patient\n",
       "0    0.000733\n",
       "2    0.003741\n",
       "7    0.105925\n",
       "8    0.099443\n",
       "dtype: float64"
      ]
     },
     "execution_count": 14,
     "metadata": {},
     "output_type": "execute_result"
    }
   ],
   "source": [
    "#example output of filter_1\n",
    "filter_1(prepare_analysis(df_time_small, t = 0.4))"
   ]
  },
  {
   "cell_type": "code",
   "execution_count": 16,
   "metadata": {},
   "outputs": [
    {
     "data": {
      "text/html": [
       "<div>\n",
       "<style scoped>\n",
       "    .dataframe tbody tr th:only-of-type {\n",
       "        vertical-align: middle;\n",
       "    }\n",
       "\n",
       "    .dataframe tbody tr th {\n",
       "        vertical-align: top;\n",
       "    }\n",
       "\n",
       "    .dataframe thead th {\n",
       "        text-align: right;\n",
       "    }\n",
       "</style>\n",
       "<table border=\"1\" class=\"dataframe\">\n",
       "  <thead>\n",
       "    <tr style=\"text-align: right;\">\n",
       "      <th></th>\n",
       "      <th>duration</th>\n",
       "      <th>observed</th>\n",
       "    </tr>\n",
       "    <tr>\n",
       "      <th>patient</th>\n",
       "      <th></th>\n",
       "      <th></th>\n",
       "    </tr>\n",
       "  </thead>\n",
       "  <tbody>\n",
       "    <tr>\n",
       "      <th>0</th>\n",
       "      <td>0.000733</td>\n",
       "      <td>True</td>\n",
       "    </tr>\n",
       "    <tr>\n",
       "      <th>2</th>\n",
       "      <td>0.003741</td>\n",
       "      <td>True</td>\n",
       "    </tr>\n",
       "    <tr>\n",
       "      <th>3</th>\n",
       "      <td>0.007114</td>\n",
       "      <td>False</td>\n",
       "    </tr>\n",
       "    <tr>\n",
       "      <th>4</th>\n",
       "      <td>0.028751</td>\n",
       "      <td>False</td>\n",
       "    </tr>\n",
       "    <tr>\n",
       "      <th>7</th>\n",
       "      <td>0.105925</td>\n",
       "      <td>True</td>\n",
       "    </tr>\n",
       "    <tr>\n",
       "      <th>8</th>\n",
       "      <td>0.099443</td>\n",
       "      <td>True</td>\n",
       "    </tr>\n",
       "  </tbody>\n",
       "</table>\n",
       "</div>"
      ],
      "text/plain": [
       "         duration  observed\n",
       "patient                    \n",
       "0        0.000733      True\n",
       "2        0.003741      True\n",
       "3        0.007114     False\n",
       "4        0.028751     False\n",
       "7        0.105925      True\n",
       "8        0.099443      True"
      ]
     },
     "execution_count": 16,
     "metadata": {},
     "output_type": "execute_result"
    }
   ],
   "source": [
    "#example output of filter_2\n",
    "filter_2(prepare_analysis(df_time_small, t = 0.4), t = 0.4)"
   ]
  },
  {
   "cell_type": "markdown",
   "metadata": {},
   "source": [
    "For each of the thresholds `t in [0.1, 0.2, ... 1.2]` we will now estimate the hazard rate of the second visit using the `ExponentialFitter` from the `lifelines` library. We plot the estimated values of the hazard rate as a function of different thresholds `t` for both `filter_1` and `filter_2` to compare both approaches.\n",
    "\n",
    "For the case considered here the `.fit` function of the the `ExponentialFitter` requires only 1 or 2 arguments. The first argument is the length of intervals until the observed event (or in this case, the timespan between two events).\n",
    "The second optional argument is only needed when accounting for potential censoring. We pass a boolean array with information on censoring as a second argument to the `.fit` function. 1s are indicating an observed end, and 0s indicating still waiting for the end. The end here is \"second visit\"."
   ]
  },
  {
   "cell_type": "code",
   "execution_count": 19,
   "metadata": {},
   "outputs": [],
   "source": [
    "#define thresholds [0.1, 0.2, ... 1.2]\n",
    "thresholds = np.arange(0.1, 1.3, 0.1)\n",
    "\n",
    "#compute hazard rates for different thresholds using filter_1\n",
    "hazards_1 = []\n",
    "for t in thresholds:\n",
    "    data_1 = filter_1(prepare_analysis(df_time_large, t))\n",
    "    exfitter = ExponentialFitter().fit(data_1)    \n",
    "    hazards_1.append(1 / exfitter.lambda_)\n",
    "\n",
    "#compute hazard rates for different thresholds using the filter_2\n",
    "hazards_2 = []\n",
    "for t in thresholds:\n",
    "    data_2 = filter_2(prepare_analysis(df_time_large, t), t)\n",
    "    exfitter = ExponentialFitter().fit(data_2[\"duration\"], data_2[\"observed\"])\n",
    "    hazards_2.append(1 / exfitter.lambda_)"
   ]
  },
  {
   "cell_type": "code",
   "execution_count": 24,
   "metadata": {},
   "outputs": [
    {
     "data": {
      "text/plain": [
       "Text(0.5, 1.0, 'estimated hazard rates')"
      ]
     },
     "execution_count": 24,
     "metadata": {},
     "output_type": "execute_result"
    },
    {
     "data": {
      "image/png": "[encoded data removed]",
      "text/plain": [
       "<Figure size 432x288 with 1 Axes>"
      ]
     },
     "metadata": {
      "needs_background": "light"
     },
     "output_type": "display_data"
    }
   ],
   "source": [
    "#plot the estimated hazard rates\n",
    "plt.errorbar(thresholds, hazards_1, label = \"Analysis with filter_1\")\n",
    "plt.errorbar(thresholds, hazards_2, color = \"red\", label = \"Analysis with filter_2\")\n",
    "plt.xlabel(\"thresholds\")\n",
    "plt.ylabel(\"hazard (1/lambda)\")\n",
    "plt.legend()\n",
    "plt.title(\"estimated hazard rates\")"
   ]
  },
  {
   "cell_type": "markdown",
   "metadata": {},
   "source": [
    "### Observation 1\n",
    "There are two observations you can derive from the plot above: \n",
    "1. The estimated hazard rate decreases for larger time intervals. This is especially the case for the analysis with filter_1.\n",
    "In the case of filter_1 the reason could be that by only looking at patients that had two visits before the threshold, we are only\n",
    "looking at small intervals and therefore overestimate the hazard. \n",
    "For filter_2 it could that patients that visit the doctor early in our observation period are likely to go to the doctor more often\n",
    "and therefore return more quickly.\n",
    "2. The estimated hazard rate for filter_1 is (much) higher than for filter_2. This is because in filter_1 we only look at instances that\n",
    "already had their second visit, so we leave out longer time periods.\n"
   ]
  },
  {
   "cell_type": "markdown",
   "metadata": {},
   "source": [
    "We now want to investigate the impact of covariates on the time between first and second visit.\n",
    "\n",
    "To that extend we create a DataFrame `df_cov_part1` with columns `['duration', 'observed', 'age', 'height', 'woman', 'weight']` by joining the patient data (`patients.csv`) with the data on duration between first and second visit obtained via `prepare_analysis` and `filter_2`.\n",
    "\n",
    "We then fit a CoxPH model using the `CoxPHFitter` from the lifelines library to the entire dataset."
   ]
  },
  {
   "cell_type": "code",
   "execution_count": 45,
   "metadata": {},
   "outputs": [],
   "source": [
    "df_cov_part1 = filter_2(prepare_analysis(df_time_large, 1.2), 1.2).join(df_patients)"
   ]
  },
  {
   "cell_type": "code",
   "execution_count": 46,
   "metadata": {},
   "outputs": [],
   "source": [
    "cph_part1 = CoxPHFitter().fit(df_cov_part1, \"duration\", \"observed\")"
   ]
  },
  {
   "cell_type": "code",
   "execution_count": 52,
   "metadata": {},
   "outputs": [
    {
     "name": "stdout",
     "output_type": "stream",
     "text": [
      "<lifelines.CoxPHFitter: fitted with 954 total observations, 94 right-censored observations>\n",
      "             duration col = 'duration'\n",
      "                event col = 'observed'\n",
      "      baseline estimation = breslow\n",
      "   number of observations = 954\n",
      "number of events observed = 860\n",
      "   partial log-likelihood = -5098.54194\n",
      "         time fit was run = 2022-12-04 12:17:04 UTC\n",
      "\n",
      "---\n",
      "              coef  exp(coef)   se(coef)   coef lower 95%   coef upper 95%  exp(coef) lower 95%  exp(coef) upper 95%\n",
      "covariate                                                                                                           \n",
      "age        0.00541    1.00542    0.00368         -0.00181          0.01263              0.99819              1.01271\n",
      "height     0.07718    1.08024    0.29852         -0.50791          0.66228              0.60175              1.93921\n",
      "woman     -0.08367    0.91974    0.07130         -0.22341          0.05607              0.79979              1.05767\n",
      "weight     0.01977    1.01997    0.00317          0.01356          0.02599              1.01365              1.02633\n",
      "\n",
      "            cmp to        z       p   -log2(p)\n",
      "covariate                                     \n",
      "age        0.00000  1.46744 0.14226    2.81343\n",
      "height     0.00000  0.25855 0.79598    0.32919\n",
      "woman      0.00000 -1.17352 0.24059    2.05536\n",
      "weight     0.00000  6.23183  <5e-06   31.01448\n",
      "---\n",
      "Concordance = 0.62212\n",
      "Partial AIC = 10205.08389\n",
      "log-likelihood ratio test = 133.70878 on 4 df\n",
      "-log2(p) of ll-ratio test = 90.36612\n",
      "\n"
     ]
    }
   ],
   "source": [
    "#print summary of fitted model\n",
    "cph_part1.print_summary(style = \"ascii\", decimals = 5)"
   ]
  },
  {
   "cell_type": "markdown",
   "metadata": {},
   "source": [
    "### Observation 2\n",
    "The coefficents of the CoxPH model indicate that an older age or a higher weight leads to returning to the doctor more quickly, while women tend to wait longer between their visits."
   ]
  },
  {
   "cell_type": "markdown",
   "metadata": {},
   "source": [
    "## Part 2\n",
    "\n",
    "So far we were only concerned with the time between the first and second doctors visit. We will now be using the entire dataset to predict the time between doctors visits. This is a little bit of an unsual scenario for survival analysis as each individual can experience the event more than once, but the methods used to analyse this problem are very similar to the once already explored.\n",
    "\n",
    "The function `prepare_analysis_all` computes the duration between all doctors visits for each patient. Note, that for all of the patients their final visit is not recorded. This is indicated by the returned *observed* column."
   ]
  },
  {
   "cell_type": "code",
   "execution_count": 38,
   "metadata": {},
   "outputs": [],
   "source": [
    "def prepare_analysis_all(df_time : pd.DataFrame, t : float) -> pd.DataFrame:\n",
    "    df = df_time[df_time.time <= t].copy()\n",
    "    out = {\"patient\": [], \"observed\" : [], \"duration\" :  []}\n",
    "    for patient in np.sort(df[\"patient\"].unique()):\n",
    "        df_patient = df[df[\"patient\"] == patient]\n",
    "        length = len(df_patient)\n",
    "        out[\"patient\"] += [patient] * length\n",
    "        out[\"observed\"] += ([True] * (length-1) + [False])\n",
    "        out[\"duration\"] += list(-df_patient[\"time\"]+df_patient[\"time\"].shift(-1, fill_value = t))\n",
    "    return pd.DataFrame(out)"
   ]
  },
  {
   "cell_type": "code",
   "execution_count": 44,
   "metadata": {},
   "outputs": [
    {
     "data": {
      "text/html": [
       "<div>\n",
       "<style scoped>\n",
       "    .dataframe tbody tr th:only-of-type {\n",
       "        vertical-align: middle;\n",
       "    }\n",
       "\n",
       "    .dataframe tbody tr th {\n",
       "        vertical-align: top;\n",
       "    }\n",
       "\n",
       "    .dataframe thead th {\n",
       "        text-align: right;\n",
       "    }\n",
       "</style>\n",
       "<table border=\"1\" class=\"dataframe\">\n",
       "  <thead>\n",
       "    <tr style=\"text-align: right;\">\n",
       "      <th></th>\n",
       "      <th>patient</th>\n",
       "      <th>observed</th>\n",
       "      <th>duration</th>\n",
       "    </tr>\n",
       "  </thead>\n",
       "  <tbody>\n",
       "    <tr>\n",
       "      <th>0</th>\n",
       "      <td>0</td>\n",
       "      <td>True</td>\n",
       "      <td>0.000733</td>\n",
       "    </tr>\n",
       "    <tr>\n",
       "      <th>1</th>\n",
       "      <td>0</td>\n",
       "      <td>False</td>\n",
       "      <td>0.069858</td>\n",
       "    </tr>\n",
       "    <tr>\n",
       "      <th>2</th>\n",
       "      <td>2</td>\n",
       "      <td>True</td>\n",
       "      <td>0.003741</td>\n",
       "    </tr>\n",
       "    <tr>\n",
       "      <th>3</th>\n",
       "      <td>2</td>\n",
       "      <td>True</td>\n",
       "      <td>0.104157</td>\n",
       "    </tr>\n",
       "    <tr>\n",
       "      <th>4</th>\n",
       "      <td>2</td>\n",
       "      <td>True</td>\n",
       "      <td>0.175687</td>\n",
       "    </tr>\n",
       "    <tr>\n",
       "      <th>5</th>\n",
       "      <td>2</td>\n",
       "      <td>True</td>\n",
       "      <td>0.045316</td>\n",
       "    </tr>\n",
       "    <tr>\n",
       "      <th>6</th>\n",
       "      <td>2</td>\n",
       "      <td>False</td>\n",
       "      <td>0.040048</td>\n",
       "    </tr>\n",
       "    <tr>\n",
       "      <th>7</th>\n",
       "      <td>3</td>\n",
       "      <td>False</td>\n",
       "      <td>0.007114</td>\n",
       "    </tr>\n",
       "    <tr>\n",
       "      <th>8</th>\n",
       "      <td>4</td>\n",
       "      <td>False</td>\n",
       "      <td>0.028751</td>\n",
       "    </tr>\n",
       "    <tr>\n",
       "      <th>9</th>\n",
       "      <td>7</td>\n",
       "      <td>True</td>\n",
       "      <td>0.105925</td>\n",
       "    </tr>\n",
       "  </tbody>\n",
       "</table>\n",
       "</div>"
      ],
      "text/plain": [
       "   patient  observed  duration\n",
       "0        0      True  0.000733\n",
       "1        0     False  0.069858\n",
       "2        2      True  0.003741\n",
       "3        2      True  0.104157\n",
       "4        2      True  0.175687\n",
       "5        2      True  0.045316\n",
       "6        2     False  0.040048\n",
       "7        3     False  0.007114\n",
       "8        4     False  0.028751\n",
       "9        7      True  0.105925"
      ]
     },
     "execution_count": 44,
     "metadata": {},
     "output_type": "execute_result"
    }
   ],
   "source": [
    "#example output of prepare_analysis_all\n",
    "prepare_analysis_all(df_time_small, t = 0.4).head(10)"
   ]
  },
  {
   "cell_type": "markdown",
   "metadata": {},
   "source": [
    "Like in **Part 1** we no use the covariates in `patients.csv` in a CoxPH model but now modeling the entire dataset (using `prepare_analysis_all`) rather than the visits between the first and second visit only.\n",
    "First we join the data sets (`df_cov_part2`), then we fit the model (`cph_part2`) accounting for the fact that the observations are not independent (rememember you have multiple observations for one patient) by using the `cluster_col` argument.."
   ]
  },
  {
   "cell_type": "code",
   "execution_count": 49,
   "metadata": {},
   "outputs": [],
   "source": [
    "df_cov_part2 = prepare_analysis_all(df_time_large, 1.2).join(df_patients, on = \"patient\")"
   ]
  },
  {
   "cell_type": "code",
   "execution_count": 50,
   "metadata": {},
   "outputs": [],
   "source": [
    "cph_part2 = CoxPHFitter().fit(df_cov_part2, \"duration\", \"observed\", cluster_col = \"patient\")"
   ]
  },
  {
   "cell_type": "code",
   "execution_count": 54,
   "metadata": {},
   "outputs": [
    {
     "name": "stdout",
     "output_type": "stream",
     "text": [
      "<lifelines.CoxPHFitter: fitted with 4890 total observations, 954 right-censored observations>\n",
      "             duration col = 'duration'\n",
      "                event col = 'observed'\n",
      "              cluster col = 'patient'\n",
      "          robust variance = True\n",
      "      baseline estimation = breslow\n",
      "   number of observations = 4890\n",
      "number of events observed = 3936\n",
      "   partial log-likelihood = -29571.03405\n",
      "         time fit was run = 2022-12-04 12:20:23 UTC\n",
      "\n",
      "---\n",
      "              coef  exp(coef)   se(coef)   coef lower 95%   coef upper 95%  exp(coef) lower 95%  exp(coef) upper 95%\n",
      "covariate                                                                                                           \n",
      "age        0.00255    1.00255    0.00182         -0.00102          0.00611              0.99898              1.00613\n",
      "height    -0.30139    0.73979    0.15801         -0.61109          0.00830              0.54276              1.00834\n",
      "woman     -0.11168    0.89433    0.03463         -0.17956         -0.04380              0.83564              0.95714\n",
      "weight     0.02230    1.02255    0.00153          0.01931          0.02530              1.01950              1.02562\n",
      "\n",
      "            cmp to        z       p   -log2(p)\n",
      "covariate                                     \n",
      "age        0.00000  1.40098 0.16122    2.63289\n",
      "height     0.00000 -1.90741 0.05647    4.14644\n",
      "woman      0.00000 -3.22477 0.00126    9.63150\n",
      "weight     0.00000 14.60321  <5e-06  158.03078\n",
      "---\n",
      "Concordance = 0.62319\n",
      "Partial AIC = 59150.06811\n",
      "log-likelihood ratio test = 658.13899 on 4 df\n",
      "-log2(p) of ll-ratio test = 466.38030\n",
      "\n"
     ]
    }
   ],
   "source": [
    "#print summary of fitted model\n",
    "cph_part2.print_summary(style = \"ascii\", decimals = 5)"
   ]
  },
  {
   "cell_type": "markdown",
   "metadata": {},
   "source": [
    "## Part 3\n",
    "\n",
    "When looking at the data, you might notice that the visits have an attached \"type\" property which indicates the kind of treatment that happened (0=diagnoses only, 1=treatment only, 2=diagnoses & treatment). You might think that if a patient has been diagnosed but did not yet receive a treatment, he is more likely to return soon. To prove this hypothesis we will analyze wether `type=0` strongly increases the hazard for that patient.\n",
    "\n",
    "So far we have only looked at the case where the covariates are constant over the observation period. In order to account for the type of visit, this needs to change. \n",
    "\n",
    "In `lifelines` time varying covariates are encoded using the \"long\" format (see [documentation](https://lifelines.readthedocs.io/en/latest/Time%20varying%20survival%20regression.html)). In the long format information is encoded in a start and stop time. During this timespan it is assumed, that the covariates are constant.\n",
    "\n",
    "We thus need to encode our point process data in the long format (i.e. denote the start and stop) and we also associate each timespan with the type of the starting event. This is done in the function `prepare_analysis_long`.\n",
    "We then join this long format data with the patient information and fit a time varying CoxPH model (`cph_part3`) to the data.\n"
   ]
  },
  {
   "cell_type": "code",
   "execution_count": 57,
   "metadata": {},
   "outputs": [],
   "source": [
    "def prepare_analysis_long(df_time : pd.DataFrame, max_t : float) -> pd.DataFrame:\n",
    "    df = df_time[df_time.time <= max_t].copy()\n",
    "    out = {\"patient\": [], \"start\" :  [], \"stop\": [], \"observed\" : [], \"type\" : []}\n",
    "    for patient in np.sort(df[\"patient\"].unique()):\n",
    "        df_patient = df[df[\"patient\"] == patient]\n",
    "        length = len(df_patient)\n",
    "        out[\"patient\"] += [patient] * length\n",
    "        out[\"observed\"] += ([True] * (length-1) + [False])\n",
    "        out[\"start\"] += list(df_patient[\"time\"])\n",
    "        out[\"stop\"] += list(df_patient[\"time\"].shift(-1, fill_value = max_t))\n",
    "        out[\"type\"] += list(df_patient[\"type\"].copy())\n",
    "    return pd.DataFrame(out)"
   ]
  },
  {
   "cell_type": "code",
   "execution_count": 62,
   "metadata": {},
   "outputs": [],
   "source": [
    "#prepare the data via prepare_analysis_long, join it with patient info and only look at type == 0\n",
    "df_cov_part3 = pd.get_dummies(prepare_analysis_long(df_time_large, 1.2).join(df_patients, on = \"patient\"), columns = [\"type\"])\n",
    "df_cov_part3.drop([\"type_1.0\", \"type_2.0\"], axis = 1, inplace = True)"
   ]
  },
  {
   "cell_type": "code",
   "execution_count": 63,
   "metadata": {},
   "outputs": [],
   "source": [
    "cph_part3 = CoxTimeVaryingFitter().fit(df_cov_part3, \"observed\", id_col=\"patient\")"
   ]
  },
  {
   "cell_type": "code",
   "execution_count": 64,
   "metadata": {},
   "outputs": [
    {
     "name": "stdout",
     "output_type": "stream",
     "text": [
      "<lifelines.CoxTimeVaryingFitter: fitted with 4890 periods, 954 subjects, 3936 events>\n",
      "         event col = 'observed'\n",
      "number of subjects = 954\n",
      " number of periods = 4890\n",
      "  number of events = 3936\n",
      "partial log-likelihood = -25484.97694\n",
      "  time fit was run = 2022-12-04 12:37:23 UTC\n",
      "\n",
      "---\n",
      "              coef  exp(coef)   se(coef)   coef lower 95%   coef upper 95%  exp(coef) lower 95%  exp(coef) upper 95%\n",
      "covariate                                                                                                           \n",
      "age        0.00269    1.00269    0.00171         -0.00067          0.00605              0.99933              1.00607\n",
      "height    -0.35413    0.70178    0.14731         -0.64285         -0.06542              0.52579              0.93667\n",
      "woman     -0.14241    0.86726    0.03420         -0.20945         -0.07538              0.81103              0.92739\n",
      "weight     0.02432    1.02461    0.00141          0.02155          0.02708              1.02178              1.02745\n",
      "type_0.0   1.06010    2.88665    0.03995          0.98180          1.13840              2.66925              3.12176\n",
      "\n",
      "            cmp to        z       p   -log2(p)\n",
      "covariate                                     \n",
      "age        0.00000  1.56929 0.11658    3.10061\n",
      "height     0.00000 -2.40406 0.01621    5.94662\n",
      "woman      0.00000 -4.16405 0.00003   14.96510\n",
      "weight     0.00000 17.23860  <5e-06  218.80049\n",
      "type_0.0   0.00000 26.53554  <5e-06  512.98374\n",
      "---\n",
      "Partial AIC = 50979.95387\n",
      "log-likelihood ratio test = 1338.06780 on 5 df\n",
      "-log2(p) of ll-ratio test = 951.54046\n",
      "\n"
     ]
    }
   ],
   "source": [
    "cph_part3.print_summary(style = \"ascii\", decimals = 5)"
   ]
  },
  {
   "cell_type": "markdown",
   "metadata": {},
   "source": [
    "### Observation 4\n",
    "The summary of our model indeed indicates that visits with type 0 (only diagnosis) lead to a smaller time period until the patient returns."
   ]
  }
 ],
 "metadata": {
  "kernelspec": {
   "display_name": "Python 3",
   "language": "python",
   "name": "python3"
  },
  "language_info": {
   "codemirror_mode": {
    "name": "ipython",
    "version": 3
   },
   "file_extension": ".py",
   "mimetype": "text/x-python",
   "name": "python",
   "nbconvert_exporter": "python",
   "pygments_lexer": "ipython3",
   "version": "3.7.6"
  }
 },
 "nbformat": 4,
 "nbformat_minor": 4
}
